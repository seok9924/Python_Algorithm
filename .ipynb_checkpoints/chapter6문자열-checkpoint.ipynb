{
 "cells": [
  {
   "cell_type": "code",
   "execution_count": 76,
   "id": "d9e4b289",
   "metadata": {},
   "outputs": [],
   "source": [
    "import collections\n",
    "import re\n"
   ]
  },
  {
   "cell_type": "markdown",
   "id": "cb078ccb",
   "metadata": {},
   "source": [
    "# \"Valid Palindrome\""
   ]
  },
  {
   "cell_type": "code",
   "execution_count": 23,
   "id": "be97f6f9",
   "metadata": {},
   "outputs": [],
   "source": [
    "a=\"A man, a plan a canal: Panama\""
   ]
  },
  {
   "cell_type": "code",
   "execution_count": 45,
   "id": "ce10a4ee",
   "metadata": {},
   "outputs": [
    {
     "name": "stdout",
     "output_type": "stream",
     "text": [
      "6.87 µs ± 609 ns per loop (mean ± std. dev. of 7 runs, 100000 loops each)\n"
     ]
    }
   ],
   "source": [
    "%%timeit\n",
    "#풀이1  리스트로 변환\n",
    "def isPalindrome(s:str) ->bool:\n",
    "    strs =[]\n",
    "    for char in s:\n",
    "        if char.isalnum():\n",
    "            strs.append(char.lower())\n",
    "    while len(strs) >1:\n",
    "        if strs.pop(0)!=strs.pop():\n",
    "            return False\n",
    "    return True\n",
    "isPalindrome(a)"
   ]
  },
  {
   "cell_type": "code",
   "execution_count": 44,
   "id": "55f24801",
   "metadata": {},
   "outputs": [
    {
     "name": "stdout",
     "output_type": "stream",
     "text": [
      "5.38 µs ± 153 ns per loop (mean ± std. dev. of 7 runs, 100000 loops each)\n"
     ]
    }
   ],
   "source": [
    "%%timeit\n",
    "#풀이2 데크 자료형을 이용한 최적화\n",
    "def isPalindrome_deque(s:str) ->bool:\n",
    "    strs: Deque=collections.deque()\n",
    "    \n",
    "    for char in s:\n",
    "        if char.isalnum():\n",
    "            strs.append(char.lower())\n",
    "    while len(strs) >1:\n",
    "        if strs.popleft()!=strs.pop():\n",
    "            return False\n",
    "    return True\n",
    "isPalindrome_deque(a)"
   ]
  },
  {
   "cell_type": "code",
   "execution_count": 49,
   "id": "cf2f1f1b",
   "metadata": {},
   "outputs": [
    {
     "name": "stdout",
     "output_type": "stream",
     "text": [
      "2.81 µs ± 155 ns per loop (mean ± std. dev. of 7 runs, 100000 loops each)\n"
     ]
    }
   ],
   "source": [
    "%%timeit\n",
    "#풀이3 슬라이싱 사용\n",
    "def isPalindrome_slice(s:str) ->bool:\n",
    "    s=s.lower()\n",
    "    #정규식으로 불필요한 문자 필터링\n",
    "    s=re.sub('[^a-z0-9]','',s)\n",
    "    return s==s[::-1]\n",
    "    \n",
    "isPalindrome_slice(a)\n"
   ]
  },
  {
   "cell_type": "markdown",
   "id": "de66162f",
   "metadata": {},
   "source": [
    "# 문자열 뒤집기"
   ]
  },
  {
   "cell_type": "code",
   "execution_count": 57,
   "id": "660a5bce",
   "metadata": {},
   "outputs": [
    {
     "name": "stdout",
     "output_type": "stream",
     "text": [
      "['o', 'l', 'l', 'e', 'h']\n"
     ]
    }
   ],
   "source": [
    "# 두 포인터를 이용해 스왑하기 \n",
    "def reverseString(s)->None:\n",
    "    left,right=0, len(s)-1\n",
    "    while left<right:\n",
    "        s[left],s[right]=s[right],s[left]\n",
    "        left+=1\n",
    "        right-=1\n",
    "istr=[\"h\",\"e\",\"l\",\"l\",\"o\"]\n",
    "reverseString(istr)\n",
    "print(istr)"
   ]
  },
  {
   "cell_type": "code",
   "execution_count": 58,
   "id": "f6ba9922",
   "metadata": {},
   "outputs": [
    {
     "name": "stdout",
     "output_type": "stream",
     "text": [
      "['o', 'l', 'l', 'e', 'h']\n"
     ]
    }
   ],
   "source": [
    "#파이썬 다운 방식\n",
    "def reverseString(s)->None:\n",
    "    s.reverse()\n",
    "istr=[\"h\",\"e\",\"l\",\"l\",\"o\"]\n",
    "reverseString(istr)\n",
    "print(istr)"
   ]
  },
  {
   "cell_type": "markdown",
   "id": "9158730e",
   "metadata": {},
   "source": [
    "# 로그파일 재정렬"
   ]
  },
  {
   "cell_type": "code",
   "execution_count": 60,
   "id": "4da9556c",
   "metadata": {},
   "outputs": [
    {
     "data": {
      "text/plain": [
       "['dig1 8 1 5 1',\n",
       " 'let art can',\n",
       " 'dig2 3 6',\n",
       " 'let2 own kit dig',\n",
       " 'let3 art zero']"
      ]
     },
     "execution_count": 60,
     "metadata": {},
     "output_type": "execute_result"
    }
   ],
   "source": [
    "logs= [\"dig1 8 1 5 1\",\"let1 art can\", \"dig2 3 6\",\"let2 own kit dig\",\"let3 art zero\"]\n",
    "logs"
   ]
  },
  {
   "cell_type": "code",
   "execution_count": 73,
   "id": "52852e24",
   "metadata": {},
   "outputs": [],
   "source": [
    "def reorderLogFiles(logs:list) ->list:\n",
    "    letters,digits=[],[]\n",
    "    for log in logs:\n",
    "        if log.split()[1].isdigit():\n",
    "            digits.append(log)\n",
    "        else:\n",
    "           \n",
    "            letters.append(log)\n",
    "    letters.sort(key=lambda x:(x.split()[1:],x.split()[0])) # 뒤의문자순 정렬 후 문자가 동일 할 경우 앞 번호를 원함\n",
    "    return letters+digits\n"
   ]
  },
  {
   "cell_type": "code",
   "execution_count": 75,
   "id": "5f64abae",
   "metadata": {},
   "outputs": [
    {
     "data": {
      "text/plain": [
       "['let1 art can',\n",
       " 'let3 art zero',\n",
       " 'let2 own kit dig',\n",
       " 'dig1 8 1 5 1',\n",
       " 'dig2 3 6']"
      ]
     },
     "execution_count": 75,
     "metadata": {},
     "output_type": "execute_result"
    }
   ],
   "source": [
    "logs= [\"dig1 8 1 5 1\",\"let1 art can\", \"dig2 3 6\",\"let2 own kit dig\",\"let3 art zero\"]\n",
    "reorderLogFiles(logs)"
   ]
  },
  {
   "cell_type": "code",
   "execution_count": 88,
   "id": "bc3c0439",
   "metadata": {},
   "outputs": [],
   "source": [
    "\n",
    "def mostCommonWord(paragraph, banned):\n",
    "    words = [word for word in re.sub(r'[^\\w]', ' ', paragraph)\n",
    "        .lower().split()\n",
    "            if word not in banned]\n",
    "\n",
    "    counts = collections.Counter(words)\n",
    "    # 가장 흔하게 등장하는 단어의 첫 번째 인덱스 리턴\n",
    "    print(counts)\n",
    "    return counts.most_common(1)[0][0]"
   ]
  },
  {
   "cell_type": "markdown",
   "id": "113da2ab",
   "metadata": {},
   "source": [
    "* 정규식에서 \\w는 단어문자를 ㅇ뜻하며 ^는 not을 의미한다 따라서 위 정규식은 단어 문자가 아닌 모든 문자를\n",
    "* 공백으로 치환한다"
   ]
  },
  {
   "cell_type": "code",
   "execution_count": 89,
   "id": "89e4a71d",
   "metadata": {},
   "outputs": [],
   "source": [
    "paragraph =\"Bob hit a ball, the hit Ball flew far after it was hit\"\n",
    "banned=['hit']\n"
   ]
  },
  {
   "cell_type": "code",
   "execution_count": 90,
   "id": "63030a2c",
   "metadata": {},
   "outputs": [
    {
     "name": "stdout",
     "output_type": "stream",
     "text": [
      "Counter({'ball': 2, 'bob': 1, 'a': 1, 'the': 1, 'flew': 1, 'far': 1, 'after': 1, 'it': 1, 'was': 1})\n"
     ]
    },
    {
     "data": {
      "text/plain": [
       "'ball'"
      ]
     },
     "execution_count": 90,
     "metadata": {},
     "output_type": "execute_result"
    }
   ],
   "source": [
    "mostCommonWord(paragraph,banned)"
   ]
  },
  {
   "cell_type": "markdown",
   "id": "20511b65",
   "metadata": {},
   "source": [
    "# 그룹 에너그램"
   ]
  },
  {
   "cell_type": "code",
   "execution_count": 93,
   "id": "aa0c1cfe",
   "metadata": {},
   "outputs": [],
   "source": [
    "ana=[\"eat\",\"tea\",\"tan\",\"ate\",\"nat\",\"bat\"]"
   ]
  },
  {
   "cell_type": "code",
   "execution_count": 112,
   "id": "620118cd",
   "metadata": {},
   "outputs": [],
   "source": [
    "def groupAnagrams(strs) :\n",
    "    anagram=collections.defaultdict(list)\n",
    "    \n",
    "    for word in strs:\n",
    "        \n",
    "        anagram[''.join(sorted(word))].append(word)\n",
    "    print(anagram.keys())\n",
    "    return anagram.values()\n"
   ]
  },
  {
   "cell_type": "code",
   "execution_count": 113,
   "id": "46a96a12",
   "metadata": {},
   "outputs": [
    {
     "name": "stdout",
     "output_type": "stream",
     "text": [
      "dict_keys(['aet', 'ant', 'abt'])\n"
     ]
    },
    {
     "data": {
      "text/plain": [
       "dict_values([['eat', 'tea', 'ate'], ['tan', 'nat'], ['bat']])"
      ]
     },
     "execution_count": 113,
     "metadata": {},
     "output_type": "execute_result"
    }
   ],
   "source": [
    "groupAnagrams(ana)"
   ]
  },
  {
   "cell_type": "code",
   "execution_count": 105,
   "id": "3870fcdb",
   "metadata": {},
   "outputs": [
    {
     "data": {
      "text/plain": [
       "['ate', 'bat', 'eat', 'nat', 'tan', 'tea']"
      ]
     },
     "execution_count": 105,
     "metadata": {},
     "output_type": "execute_result"
    }
   ],
   "source": [
    "sorted(ana)"
   ]
  },
  {
   "cell_type": "code",
   "execution_count": 114,
   "id": "ea8ecfbc",
   "metadata": {},
   "outputs": [],
   "source": [
    "# .sort() 는 none을 리턴합니다 inplace sort에요"
   ]
  },
  {
   "cell_type": "code",
   "execution_count": 115,
   "id": "59c8f4a7",
   "metadata": {},
   "outputs": [
    {
     "data": {
      "text/plain": [
       "['abc', 'cfc', 'cde']"
      ]
     },
     "execution_count": 115,
     "metadata": {},
     "output_type": "execute_result"
    }
   ],
   "source": [
    "a=['cde','cfc','abc']\n",
    "sorted(a,key=lambda s:(s[0],s[-1]))"
   ]
  },
  {
   "cell_type": "markdown",
   "id": "289c66fc",
   "metadata": {},
   "source": [
    "# 가장 긴 팰린드롬 부분 문자열"
   ]
  },
  {
   "cell_type": "code",
   "execution_count": 117,
   "id": "7f111533",
   "metadata": {},
   "outputs": [],
   "source": [
    "a='babad'"
   ]
  },
  {
   "cell_type": "code",
   "execution_count": 136,
   "id": "e12152bb",
   "metadata": {},
   "outputs": [],
   "source": [
    "def longestPalindrome(s):\n",
    "    def expand(left,right):\n",
    "        while left>=0 and right<=len(s) and s[left] ==s[right-1]:\n",
    "            left-=1\n",
    "            right+=1\n",
    "        return s[left+1:right-1]\n",
    "    if len(s)<2 or s==s[::-1]:\n",
    "        return s\n",
    "    result=''\n",
    "    for i in range(len(s)-1):\n",
    "        result=max(result,\n",
    "                  expand(i,i+1),\n",
    "                  expand(i,i+2),\n",
    "                  key=len)\n",
    "    return result\n"
   ]
  },
  {
   "cell_type": "code",
   "execution_count": 137,
   "id": "46f55f84",
   "metadata": {},
   "outputs": [
    {
     "data": {
      "text/plain": [
       "'bab'"
      ]
     },
     "execution_count": 137,
     "metadata": {},
     "output_type": "execute_result"
    }
   ],
   "source": [
    "longestPalindrome(a)"
   ]
  },
  {
   "cell_type": "code",
   "execution_count": null,
   "id": "a3b48558",
   "metadata": {},
   "outputs": [],
   "source": []
  }
 ],
 "metadata": {
  "kernelspec": {
   "display_name": "Python 3",
   "language": "python",
   "name": "python3"
  },
  "language_info": {
   "codemirror_mode": {
    "name": "ipython",
    "version": 3
   },
   "file_extension": ".py",
   "mimetype": "text/x-python",
   "name": "python",
   "nbconvert_exporter": "python",
   "pygments_lexer": "ipython3",
   "version": "3.8.8"
  }
 },
 "nbformat": 4,
 "nbformat_minor": 5
}
