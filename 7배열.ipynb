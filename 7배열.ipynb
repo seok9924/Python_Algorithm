{
 "cells": [
  {
   "cell_type": "markdown",
   "id": "905732bc",
   "metadata": {},
   "source": [
    "## 두개의 합"
   ]
  },
  {
   "cell_type": "code",
   "execution_count": 19,
   "id": "ddb54562",
   "metadata": {},
   "outputs": [],
   "source": [
    "nums=[2,7,11,15]\n",
    "target=9 \n",
    "# 두수의 합 찾아서 index 반환"
   ]
  },
  {
   "cell_type": "markdown",
   "id": "e8c13559",
   "metadata": {},
   "source": [
    "# 브루트 포스로 계산 (전수조사)"
   ]
  },
  {
   "cell_type": "code",
   "execution_count": 14,
   "id": "f78d6f48",
   "metadata": {},
   "outputs": [
    {
     "name": "stdout",
     "output_type": "stream",
     "text": [
      "0 1\n"
     ]
    },
    {
     "data": {
      "text/plain": [
       "[0, 1]"
      ]
     },
     "execution_count": 14,
     "metadata": {},
     "output_type": "execute_result"
    }
   ],
   "source": [
    "def twosum1(nums):\n",
    "    for i in range(len(nums)):\n",
    "        for j in range(i+1,len(nums)) :\n",
    "            if nums[i]+nums[j]==target:\n",
    "                print(i,j)\n",
    "                return [i,j]\n",
    "a=twosum1(nums)\n",
    "a\n",
    "# for문 2중첩의 경우 시간중첩도 n2이다             "
   ]
  },
  {
   "cell_type": "markdown",
   "id": "e7f50d40",
   "metadata": {},
   "source": [
    "# in을 이용한 탐색"
   ]
  },
  {
   "cell_type": "code",
   "execution_count": 8,
   "id": "294372bc",
   "metadata": {},
   "outputs": [
    {
     "data": {
      "text/plain": [
       "[0, 1]"
      ]
     },
     "execution_count": 8,
     "metadata": {},
     "output_type": "execute_result"
    }
   ],
   "source": [
    "def twosum2(nums) :\n",
    "    for i,n in enumerate(nums):\n",
    "        complement=target-n\n",
    "        \n",
    "        if complement in nums[i+1:]:\n",
    "            return [nums.index(n),nums[i+1:].index(complement)+i+1]\n",
    "a= twosum2(nums)\n",
    "a\n",
    "#in 의 시간복잡도 역시 n이라서  전체 시간 복잡도는 동일하나 파이썬 레벨에서 값을 비교하는 것보다 훨씬 빠름"
   ]
  },
  {
   "cell_type": "markdown",
   "id": "09761820",
   "metadata": {},
   "source": [
    "# 첫 번째 수를 뺀 결과 키 조회 (dict)"
   ]
  },
  {
   "cell_type": "code",
   "execution_count": 12,
   "id": "ecb5a9d1",
   "metadata": {},
   "outputs": [
    {
     "data": {
      "text/plain": [
       "[0, 1]"
      ]
     },
     "execution_count": 12,
     "metadata": {},
     "output_type": "execute_result"
    }
   ],
   "source": [
    "def twosum3(nums,target) :\n",
    "    nums_map={}\n",
    "    for i,num in enumerate(nums):\n",
    "        nums_map[num]=i\n",
    "    for i,num in enumerate(nums) :\n",
    "        if target-num in nums_map and i!=nums_map[target-num]:\n",
    "            return [nums.index(num),nums_map[target-num]]\n",
    "#딕셔너리 활용하기 실제로 값을 맵에 해시테이블로 넣어놨기 때문에 O(n)이 된다.\n",
    "a=twosum3(nums,target)\n",
    "a"
   ]
  },
  {
   "cell_type": "markdown",
   "id": "233fa5d8",
   "metadata": {},
   "source": [
    "# 조회구조 개선"
   ]
  },
  {
   "cell_type": "code",
   "execution_count": 16,
   "id": "1ca1c03e",
   "metadata": {},
   "outputs": [
    {
     "data": {
      "text/plain": [
       "[0, 1]"
      ]
     },
     "execution_count": 16,
     "metadata": {},
     "output_type": "execute_result"
    }
   ],
   "source": [
    "def twosum4(nums,target) :\n",
    "    nums_map={}\n",
    "    for i, num in enumerate(nums) :\n",
    "        if target- num in nums_map:\n",
    "            return [nums_map[target-num],i]\n",
    "        nums_map[num]=i\n",
    "#이 경우에는 실행하면서 딕셔너리에 값을 넣어주기 때문에 값이 다 들어가지 않음 \n",
    "# 들어가면서 후열에서 뒤의 큰 값 기준으로 앞의값을 찾게 된다\n",
    "a=twosum4(nums,target)\n",
    "a"
   ]
  },
  {
   "cell_type": "markdown",
   "id": "17f94866",
   "metadata": {},
   "source": [
    "# 투포인터 사용"
   ]
  },
  {
   "cell_type": "code",
   "execution_count": 18,
   "id": "4828e688",
   "metadata": {},
   "outputs": [
    {
     "data": {
      "text/plain": [
       "(0, 1)"
      ]
     },
     "execution_count": 18,
     "metadata": {},
     "output_type": "execute_result"
    }
   ],
   "source": [
    "def twosum5(nums,target) :\n",
    "    l,r=0, len(nums)-1\n",
    "    while not l==r :\n",
    "        if nums[l]+nums[r]<target :\n",
    "            l+=1\n",
    "        elif nums[l]+nums[r]>target:\n",
    "            r-=1\n",
    "        else:\n",
    "            return l,r\n",
    "a=twosum5(nums,target)\n",
    "# nums 가 정렬이 안되있으면 투포인터 사용 불가능\n",
    "a"
   ]
  },
  {
   "cell_type": "markdown",
   "id": "2efeb5c3",
   "metadata": {},
   "source": [
    "# 시간  단위 밀리초\n",
    "- 1  5284\n",
    "- 2  864\n",
    "- 3 48\n",
    "- 4 44\n",
    "- 5 풀이불가"
   ]
  },
  {
   "cell_type": "markdown",
   "id": "4a9f1bcc",
   "metadata": {},
   "source": [
    "## 빗물 트래핑"
   ]
  },
  {
   "cell_type": "code",
   "execution_count": 26,
   "id": "fefcbc5a",
   "metadata": {},
   "outputs": [],
   "source": [
    "rains=[0,1,0,2,1,0,1,3,2,1,2,1]"
   ]
  },
  {
   "cell_type": "markdown",
   "id": "7dcee0fd",
   "metadata": {},
   "source": [
    "# 투포인터를 최대로 이동"
   ]
  },
  {
   "cell_type": "code",
   "execution_count": 42,
   "id": "a563eba1",
   "metadata": {},
   "outputs": [
    {
     "data": {
      "text/plain": [
       "6"
      ]
     },
     "execution_count": 42,
     "metadata": {},
     "output_type": "execute_result"
    }
   ],
   "source": [
    "def trap(height) :\n",
    "    if not height:\n",
    "        return 0\n",
    "    volume=0\n",
    "    l,r= 0 , len(height)-1\n",
    "    lmax,rmax=height[l],height[r]\n",
    "    while l<r:\n",
    "        lmax,rmax= max(height[l],lmax),max(height[r],rmax)\n",
    "        if lmax<=rmax:\n",
    "            volume+=lmax-height[l]\n",
    "            l+=1\n",
    "        else:\n",
    "            volume+=rmax-height[r]\n",
    "            r-=1\n",
    "    return volume\n",
    "trap(rains)"
   ]
  },
  {
   "cell_type": "markdown",
   "id": "41304dd8",
   "metadata": {},
   "source": [
    "# 스택 쌓기"
   ]
  },
  {
   "cell_type": "code",
   "execution_count": 43,
   "id": "8cf230c0",
   "metadata": {},
   "outputs": [
    {
     "data": {
      "text/plain": [
       "6"
      ]
     },
     "execution_count": 43,
     "metadata": {},
     "output_type": "execute_result"
    }
   ],
   "source": [
    "def trap2(height) :\n",
    "    stack=[]\n",
    "    volume=0\n",
    "    for i in range(len(height)):\n",
    "        \n",
    "        #변곡점을 만날때\n",
    "        while stack and height[i]>height[stack[-1]] : #height[stack[-1]] 마지막에 쌓인 스택\n",
    "            # 스택에서 꺼냄\n",
    "            top=stack.pop()\n",
    "            if not len(stack) :\n",
    "                break\n",
    "        \n",
    "            #이전과의 차이만큼 물 높이 처리\n",
    "            distance=i-stack[-1]-1\n",
    "            waters=min(height[i],height[stack[-1]])-height[top]\n",
    "            \n",
    "            volume += distance *waters\n",
    "            \n",
    "        stack.append(i)\n",
    "    return volume\n",
    "trap2(rains)"
   ]
  },
  {
   "cell_type": "markdown",
   "id": "bd946060",
   "metadata": {},
   "source": [
    "# 세 수의 합"
   ]
  },
  {
   "cell_type": "markdown",
   "id": "a1a909b8",
   "metadata": {},
   "source": [
    "## 브루트포스로 계산하기 n3"
   ]
  },
  {
   "cell_type": "code",
   "execution_count": 16,
   "id": "091e39be",
   "metadata": {},
   "outputs": [
    {
     "name": "stdout",
     "output_type": "stream",
     "text": [
      "7.64 µs ± 97.9 ns per loop (mean ± std. dev. of 7 runs, 100,000 loops each)\n"
     ]
    }
   ],
   "source": [
    "%%timeit\n",
    "nums= [-1,0,1,2,-1,4]\n",
    "def threesum1(nums) :\n",
    "    results=[]\n",
    "    nums.sort()\n",
    "    \n",
    "    for i in range(len(nums)-2):\n",
    "        \n",
    "        if i>0 and nums[i]==nums[i-1]:\n",
    "            continue\n",
    "        for j in range(i+1,len(nums)-1):\n",
    "            if j>i+1 and nums[j]==nums[j-1]:\n",
    "                continue\n",
    "            for k in range(j+1,len(nums)):\n",
    "                if k>j+1 and nums[k]==nums[k-1]:\n",
    "                    continue\n",
    "                if nums[i]+nums[j]+nums[k]==0:\n",
    "                    results.append((nums[i],nums[j],nums[k]))\n",
    "    return results\n",
    "a=threesum1(nums)\n",
    "a"
   ]
  },
  {
   "cell_type": "markdown",
   "id": "4eea1bac",
   "metadata": {},
   "source": [
    "## 투포인터로 계산하기"
   ]
  },
  {
   "cell_type": "code",
   "execution_count": 15,
   "id": "50f55adb",
   "metadata": {},
   "outputs": [
    {
     "name": "stdout",
     "output_type": "stream",
     "text": [
      "3.47 µs ± 89.8 ns per loop (mean ± std. dev. of 7 runs, 100,000 loops each)\n"
     ]
    }
   ],
   "source": [
    "%%timeit\n",
    "def threesum2(nums) :\n",
    "    results=[]\n",
    "    nums.sort()\n",
    "    \n",
    "    for i in range(len(nums)-2):\n",
    "        if i>0 and nums[i]==nums[i-1]:\n",
    "            continue\n",
    "        l,r = i+1,len(nums)-1\n",
    "        while l<r:\n",
    "            sum=nums[i]+nums[l]+nums[r]\n",
    "            if sum<0:\n",
    "                l+=1\n",
    "            elif sum>0 :\n",
    "                r-=1\n",
    "            else:\n",
    "                results.append((nums[i],nums[l],nums[r]))\n",
    "                \n",
    "                while l<r and nums[l] == nums[l+1]:  # left 가 진행하면서 만나는 같은 값의 끝으로\n",
    "                    l+=1\n",
    "                while l<r and nums[r] == nums[r-1]:  # right 가 진행하면서 만나는 같은 값의 끝으로 \n",
    "                    r-=1\n",
    "                l+=1\n",
    "                r-=1\n",
    "    return results\n",
    "a=threesum2(nums)\n",
    "a\n",
    "                "
   ]
  },
  {
   "cell_type": "markdown",
   "id": "6064f3e7",
   "metadata": {},
   "source": [
    "# 배열 파티션 1"
   ]
  },
  {
   "cell_type": "code",
   "execution_count": 18,
   "id": "5a012abc",
   "metadata": {},
   "outputs": [],
   "source": [
    "part=[1,4,3,2]  # n개의 페어를 이용한 min(a,b)의 합으로 만들 수 있는 가장 큰 수 찾기 "
   ]
  },
  {
   "cell_type": "markdown",
   "id": "9e391b9a",
   "metadata": {},
   "source": [
    "## 오름차순 풀이 "
   ]
  },
  {
   "cell_type": "code",
   "execution_count": 21,
   "id": "b6d9cab2",
   "metadata": {},
   "outputs": [
    {
     "data": {
      "text/plain": [
       "4"
      ]
     },
     "execution_count": 21,
     "metadata": {},
     "output_type": "execute_result"
    }
   ],
   "source": [
    "part=[1,4,3,2]\n",
    "def arrayPairSum1(nums):\n",
    "    sum=0\n",
    "    pair=[]\n",
    "    nums.sort()\n",
    "    for n in nums:\n",
    "        pair.append(n)\n",
    "        if len(pair)==2:\n",
    "            sum+=min(pair)\n",
    "            pair=[]\n",
    "                \n",
    "    return sum\n",
    "arrayPairSum1(part)\n",
    "\n",
    "    "
   ]
  },
  {
   "cell_type": "markdown",
   "id": "ef027f14",
   "metadata": {},
   "source": [
    "## 짝수 번째 값 계산 "
   ]
  },
  {
   "cell_type": "code",
   "execution_count": 22,
   "id": "835a953b",
   "metadata": {},
   "outputs": [
    {
     "data": {
      "text/plain": [
       "4"
      ]
     },
     "execution_count": 22,
     "metadata": {},
     "output_type": "execute_result"
    }
   ],
   "source": [
    "part=[1,4,3,2]\n",
    "def arrayParisum2(nums):\n",
    "    sum=0\n",
    "    nums.sort()\n",
    "    for i, n in enumerate(nums):\n",
    "        if i%2==0:\n",
    "            sum+=n\n",
    "    return sum\n",
    "arrayParisum2(part)"
   ]
  },
  {
   "cell_type": "markdown",
   "id": "f027b6d3",
   "metadata": {},
   "source": [
    "## 파이썬다운 방식"
   ]
  },
  {
   "cell_type": "code",
   "execution_count": 25,
   "id": "60e4d9ed",
   "metadata": {},
   "outputs": [
    {
     "data": {
      "text/plain": [
       "4"
      ]
     },
     "execution_count": 25,
     "metadata": {},
     "output_type": "execute_result"
    }
   ],
   "source": [
    "part=[1,4,3,2]\n",
    "def arrayPairsum3(nums):\n",
    "    return sum(sorted(nums)[::2])\n",
    "arrayPairsum3(part)"
   ]
  },
  {
   "cell_type": "markdown",
   "id": "b5088af6",
   "metadata": {},
   "source": [
    "# 자신을 제외한 배열의 곱"
   ]
  },
  {
   "cell_type": "code",
   "execution_count": 26,
   "id": "1b500d67",
   "metadata": {},
   "outputs": [],
   "source": [
    "a=[1,2,3,4] #자신을 제외한 배열의 곱 #나눗셈을 하지 않고 O(n)에 풀이하라"
   ]
  },
  {
   "cell_type": "code",
   "execution_count": 27,
   "id": "51a63359",
   "metadata": {},
   "outputs": [
    {
     "data": {
      "text/plain": [
       "[24, 12, 8, 6]"
      ]
     },
     "execution_count": 27,
     "metadata": {},
     "output_type": "execute_result"
    }
   ],
   "source": [
    "def productExceptSelf(nums):\n",
    "    out=[]\n",
    "    p=1\n",
    "    for i in range(0,len(nums)) :\n",
    "        out.append(p)\n",
    "        p*=nums[i]\n",
    "    p=1\n",
    "    \n",
    "    for i in range(len(nums)-1,0-1,-1):\n",
    "        out[i]*=p\n",
    "        p=p*nums[i]\n",
    "    return out\n",
    "productExceptSelf(a)"
   ]
  },
  {
   "cell_type": "markdown",
   "id": "d2953bb2",
   "metadata": {},
   "source": [
    "# 주식을 사고팔기 가장 좋은 시점"
   ]
  },
  {
   "cell_type": "code",
   "execution_count": 31,
   "id": "3f5104ad",
   "metadata": {},
   "outputs": [],
   "source": [
    "a=[7,1,5,3,6,4] # 1일때 사서 6일때 팔면 5의 이익을 얻음 #한번의 거래로 이득"
   ]
  },
  {
   "cell_type": "markdown",
   "id": "5ba98c1e",
   "metadata": {},
   "source": [
    "## 브루트포스로 계산"
   ]
  },
  {
   "cell_type": "code",
   "execution_count": 32,
   "id": "9597ced1",
   "metadata": {},
   "outputs": [
    {
     "data": {
      "text/plain": [
       "5"
      ]
     },
     "execution_count": 32,
     "metadata": {},
     "output_type": "execute_result"
    }
   ],
   "source": [
    "def maxProfit(prices):\n",
    "    max_price=0\n",
    "    \n",
    "    for i,price in enumerate(prices):\n",
    "        for j in range(i, len(prices)) :\n",
    "            max_price= max(prices[j]-price,max_price)\n",
    "    return max_price\n",
    "maxProfit(a)"
   ]
  },
  {
   "cell_type": "markdown",
   "id": "fa8318d7",
   "metadata": {},
   "source": [
    "## 저점과 현재 값과의 차이 계산"
   ]
  },
  {
   "cell_type": "code",
   "execution_count": 35,
   "id": "f05cf2eb",
   "metadata": {},
   "outputs": [],
   "source": [
    "#최대 서브 배열 , 카데인 알고리즘 과 유사하다고 한다\n",
    "import sys"
   ]
  },
  {
   "cell_type": "code",
   "execution_count": 36,
   "id": "547628bf",
   "metadata": {},
   "outputs": [
    {
     "data": {
      "text/plain": [
       "5"
      ]
     },
     "execution_count": 36,
     "metadata": {},
     "output_type": "execute_result"
    }
   ],
   "source": [
    "def maxProfit2(prices):\n",
    "    profit=0\n",
    "    min_price=sys.maxsize #최대값\n",
    "    for price in prices :\n",
    "        min_price=min(min_price,price)\n",
    "        profit=max(profit,price-min_price)\n",
    "    return profit\n",
    "maxProfit2(a)"
   ]
  },
  {
   "cell_type": "code",
   "execution_count": null,
   "id": "5bd1cb70",
   "metadata": {},
   "outputs": [],
   "source": []
  }
 ],
 "metadata": {
  "kernelspec": {
   "display_name": "Python 3 (ipykernel)",
   "language": "python",
   "name": "python3"
  },
  "language_info": {
   "codemirror_mode": {
    "name": "ipython",
    "version": 3
   },
   "file_extension": ".py",
   "mimetype": "text/x-python",
   "name": "python",
   "nbconvert_exporter": "python",
   "pygments_lexer": "ipython3",
   "version": "3.8.8"
  }
 },
 "nbformat": 4,
 "nbformat_minor": 5
}
